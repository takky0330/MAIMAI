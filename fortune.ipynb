{
  "nbformat": 4,
  "nbformat_minor": 0,
  "metadata": {
    "colab": {
      "name": "fortune.ipynb",
      "provenance": [],
      "authorship_tag": "ABX9TyOk/AKZ7gxXgu9lH1Q5EW7l",
      "include_colab_link": true
    },
    "kernelspec": {
      "name": "python3",
      "display_name": "Python 3"
    }
  },
  "cells": [
    {
      "cell_type": "markdown",
      "metadata": {
        "id": "view-in-github",
        "colab_type": "text"
      },
      "source": [
        "<a href=\"https://colab.research.google.com/github/takky0330/MAIMAI/blob/master/fortune.ipynb\" target=\"_parent\"><img src=\"https://colab.research.google.com/assets/colab-badge.svg\" alt=\"Open In Colab\"/></a>"
      ]
    },
    {
      "cell_type": "code",
      "metadata": {
        "id": "zIaHDrY1zSBY"
      },
      "source": [
        "#### カレントディレクトリに 'fortune.py' が無いことを確認\n",
        "\n",
        "! ls"
      ],
      "execution_count": null,
      "outputs": []
    },
    {
      "cell_type": "code",
      "metadata": {
        "id": "Tiz2je3IzVIS"
      },
      "source": [
        "#### アップロードが上手くできているか分からないので… Colab上で直接ファイルを作成します！！\n",
        "\n",
        "fortune_path = 'fortune.py'\n",
        "\n",
        "fortune = '''def get_fortune():\n",
        "  import random\n",
        "  results = [\"大吉\", \"吉\", \"小吉\", \"凶\", \"大凶\", \"末吉\"]\n",
        "  return random.choice(results)\n",
        "'''\n",
        "\n",
        "with open(fortune_path, mode='w') as f:\n",
        "    f.write(fortune)"
      ],
      "execution_count": null,
      "outputs": []
    },
    {
      "cell_type": "code",
      "metadata": {
        "id": "1eWlCTu80EOj"
      },
      "source": [
        "#### カレントディレクトリに 'fortune.py' が有ることを確認\n",
        "\n",
        "! ls"
      ],
      "execution_count": null,
      "outputs": []
    },
    {
      "cell_type": "code",
      "metadata": {
        "id": "IDyf-3TW06JC"
      },
      "source": [
        "#### カレントディレクトリの 'fortune.py' の内容を確認\n",
        "\n",
        "! cat fortune.py"
      ],
      "execution_count": null,
      "outputs": []
    },
    {
      "cell_type": "code",
      "metadata": {
        "id": "3caRORUc0-ro"
      },
      "source": [
        "import fortune\n",
        "result = fortune.get_fortune()\n",
        "print(result)"
      ],
      "execution_count": null,
      "outputs": []
    },
    {
      "cell_type": "code",
      "metadata": {
        "id": "6O9qIAqR2b7h"
      },
      "source": [
        ""
      ],
      "execution_count": null,
      "outputs": []
    },
    {
      "cell_type": "code",
      "metadata": {
        "id": "v60fheWa2cEY"
      },
      "source": [
        ""
      ],
      "execution_count": null,
      "outputs": []
    },
    {
      "cell_type": "code",
      "metadata": {
        "id": "tWkFhagb2cJn"
      },
      "source": [
        ""
      ],
      "execution_count": null,
      "outputs": []
    },
    {
      "cell_type": "code",
      "metadata": {
        "id": "yBbGJSCD2cOD"
      },
      "source": [
        ""
      ],
      "execution_count": null,
      "outputs": []
    },
    {
      "cell_type": "code",
      "metadata": {
        "id": "uOslO5_11Nf4"
      },
      "source": [
        "#### カレントディレクトリの 'fortune.py' を削除\n",
        "\n",
        "! rm fortune.py "
      ],
      "execution_count": null,
      "outputs": []
    },
    {
      "cell_type": "code",
      "metadata": {
        "id": "sHv2O5Qq2N1v"
      },
      "source": [
        ""
      ],
      "execution_count": null,
      "outputs": []
    }
  ]
}