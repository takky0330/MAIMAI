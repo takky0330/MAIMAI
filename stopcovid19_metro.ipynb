{
  "nbformat": 4,
  "nbformat_minor": 0,
  "metadata": {
    "colab": {
      "name": "stopcovid19_metro.ipynb",
      "provenance": [],
      "include_colab_link": true
    },
    "kernelspec": {
      "name": "python3",
      "display_name": "Python 3"
    }
  },
  "cells": [
    {
      "cell_type": "markdown",
      "metadata": {
        "id": "view-in-github",
        "colab_type": "text"
      },
      "source": [
        "<a href=\"https://colab.research.google.com/github/takky0330/MAIMAI/blob/master/stopcovid19_metro.ipynb\" target=\"_parent\"><img src=\"https://colab.research.google.com/assets/colab-badge.svg\" alt=\"Open In Colab\"/></a>"
      ]
    },
    {
      "cell_type": "markdown",
      "metadata": {
        "id": "5FpIlbJV9zcZ",
        "colab_type": "text"
      },
      "source": [
        "### お題：\n",
        "\n",
        "『 [本当に若者の間でコロナの人数が急激に増えているのか検証した話](https://qiita.com/tomone_hata/items/4ba59119dd6b03a14581?utm_source=Qiita%E3%83%8B%E3%83%A5%E3%83%BC%E3%82%B9&utm_campaign=3d901c706b-Qiita_newsletter_420_07_22_2020&utm_medium=email&utm_term=0_e44feaa081-3d901c706b-34562873)』\n",
        "\n",
        "で出力しているチャートの”人数”を対数化して表示するよう変更する。\n",
        "\n",
        "\n"
      ]
    },
    {
      "cell_type": "code",
      "metadata": {
        "id": "wcJHf9sn1x8U",
        "colab_type": "code",
        "colab": {}
      },
      "source": [
        "import pandas as pd\n",
        "import matplotlib.pyplot as plt\n",
        "import matplotlib as mpl\n",
        "import math                                                           ## 追加： mathモジュールを import "
      ],
      "execution_count": 1,
      "outputs": []
    },
    {
      "cell_type": "code",
      "metadata": {
        "id": "GdQISXpI13G0",
        "colab_type": "code",
        "colab": {
          "base_uri": "https://localhost:8080/",
          "height": 210
        },
        "outputId": "1433700d-63fc-475d-f95b-232d85400bfb"
      },
      "source": [
        "! wget https://stopcovid19.metro.tokyo.lg.jp/data/130001_tokyo_covid19_patients.csv"
      ],
      "execution_count": 2,
      "outputs": [
        {
          "output_type": "stream",
          "text": [
            "--2020-07-28 13:19:51--  https://stopcovid19.metro.tokyo.lg.jp/data/130001_tokyo_covid19_patients.csv\n",
            "Resolving stopcovid19.metro.tokyo.lg.jp (stopcovid19.metro.tokyo.lg.jp)... 167.172.221.254, 104.248.78.24, 2604:a880:2:d0::1541:1001, ...\n",
            "Connecting to stopcovid19.metro.tokyo.lg.jp (stopcovid19.metro.tokyo.lg.jp)|167.172.221.254|:443... connected.\n",
            "HTTP request sent, awaiting response... 200 OK\n",
            "Length: 773904 (756K) [text/csv]\n",
            "Saving to: ‘130001_tokyo_covid19_patients.csv.3’\n",
            "\n",
            "\r          130001_to   0%[                    ]       0  --.-KB/s               \r         130001_tok  79%[==============>     ] 600.00K  2.78MB/s               \r130001_tokyo_covid1 100%[===================>] 755.77K  2.96MB/s    in 0.2s    \n",
            "\n",
            "2020-07-28 13:19:51 (2.96 MB/s) - ‘130001_tokyo_covid19_patients.csv.3’ saved [773904/773904]\n",
            "\n"
          ],
          "name": "stdout"
        }
      ]
    },
    {
      "cell_type": "code",
      "metadata": {
        "id": "elZGsGPe13xf",
        "colab_type": "code",
        "colab": {
          "base_uri": "https://localhost:8080/",
          "height": 191
        },
        "outputId": "0db4e508-35ca-4e7f-b714-7d3f987ab559"
      },
      "source": [
        "%matplotlib inline\n",
        "df_patient = pd.read_csv('./130001_tokyo_covid19_patients.csv')\n",
        "df_patient['公表_年月日'] = pd.to_datetime(df_patient['公表_年月日'])\n",
        "df_patient.head()"
      ],
      "execution_count": 3,
      "outputs": [
        {
          "output_type": "execute_result",
          "data": {
            "text/html": [
              "<div>\n",
              "<style scoped>\n",
              "    .dataframe tbody tr th:only-of-type {\n",
              "        vertical-align: middle;\n",
              "    }\n",
              "\n",
              "    .dataframe tbody tr th {\n",
              "        vertical-align: top;\n",
              "    }\n",
              "\n",
              "    .dataframe thead th {\n",
              "        text-align: right;\n",
              "    }\n",
              "</style>\n",
              "<table border=\"1\" class=\"dataframe\">\n",
              "  <thead>\n",
              "    <tr style=\"text-align: right;\">\n",
              "      <th></th>\n",
              "      <th>No</th>\n",
              "      <th>全国地方公共団体コード</th>\n",
              "      <th>都道府県名</th>\n",
              "      <th>市区町村名</th>\n",
              "      <th>公表_年月日</th>\n",
              "      <th>曜日</th>\n",
              "      <th>発症_年月日</th>\n",
              "      <th>患者_居住地</th>\n",
              "      <th>患者_年代</th>\n",
              "      <th>患者_性別</th>\n",
              "      <th>患者_属性</th>\n",
              "      <th>患者_状態</th>\n",
              "      <th>患者_症状</th>\n",
              "      <th>患者_渡航歴の有無フラグ</th>\n",
              "      <th>備考</th>\n",
              "      <th>退院済フラグ</th>\n",
              "    </tr>\n",
              "  </thead>\n",
              "  <tbody>\n",
              "    <tr>\n",
              "      <th>0</th>\n",
              "      <td>1</td>\n",
              "      <td>130001</td>\n",
              "      <td>東京都</td>\n",
              "      <td>NaN</td>\n",
              "      <td>2020-01-24</td>\n",
              "      <td>金</td>\n",
              "      <td>NaN</td>\n",
              "      <td>湖北省武漢市</td>\n",
              "      <td>40代</td>\n",
              "      <td>男性</td>\n",
              "      <td>NaN</td>\n",
              "      <td>NaN</td>\n",
              "      <td>NaN</td>\n",
              "      <td>NaN</td>\n",
              "      <td>NaN</td>\n",
              "      <td>1.0</td>\n",
              "    </tr>\n",
              "    <tr>\n",
              "      <th>1</th>\n",
              "      <td>2</td>\n",
              "      <td>130001</td>\n",
              "      <td>東京都</td>\n",
              "      <td>NaN</td>\n",
              "      <td>2020-01-25</td>\n",
              "      <td>土</td>\n",
              "      <td>NaN</td>\n",
              "      <td>湖北省武漢市</td>\n",
              "      <td>30代</td>\n",
              "      <td>女性</td>\n",
              "      <td>NaN</td>\n",
              "      <td>NaN</td>\n",
              "      <td>NaN</td>\n",
              "      <td>NaN</td>\n",
              "      <td>NaN</td>\n",
              "      <td>1.0</td>\n",
              "    </tr>\n",
              "    <tr>\n",
              "      <th>2</th>\n",
              "      <td>3</td>\n",
              "      <td>130001</td>\n",
              "      <td>東京都</td>\n",
              "      <td>NaN</td>\n",
              "      <td>2020-01-30</td>\n",
              "      <td>木</td>\n",
              "      <td>NaN</td>\n",
              "      <td>湖南省長沙市</td>\n",
              "      <td>30代</td>\n",
              "      <td>女性</td>\n",
              "      <td>NaN</td>\n",
              "      <td>NaN</td>\n",
              "      <td>NaN</td>\n",
              "      <td>NaN</td>\n",
              "      <td>NaN</td>\n",
              "      <td>1.0</td>\n",
              "    </tr>\n",
              "    <tr>\n",
              "      <th>3</th>\n",
              "      <td>4</td>\n",
              "      <td>130001</td>\n",
              "      <td>東京都</td>\n",
              "      <td>NaN</td>\n",
              "      <td>2020-02-13</td>\n",
              "      <td>木</td>\n",
              "      <td>NaN</td>\n",
              "      <td>都内</td>\n",
              "      <td>70代</td>\n",
              "      <td>男性</td>\n",
              "      <td>NaN</td>\n",
              "      <td>NaN</td>\n",
              "      <td>NaN</td>\n",
              "      <td>NaN</td>\n",
              "      <td>NaN</td>\n",
              "      <td>1.0</td>\n",
              "    </tr>\n",
              "    <tr>\n",
              "      <th>4</th>\n",
              "      <td>5</td>\n",
              "      <td>130001</td>\n",
              "      <td>東京都</td>\n",
              "      <td>NaN</td>\n",
              "      <td>2020-02-14</td>\n",
              "      <td>金</td>\n",
              "      <td>NaN</td>\n",
              "      <td>都内</td>\n",
              "      <td>50代</td>\n",
              "      <td>女性</td>\n",
              "      <td>NaN</td>\n",
              "      <td>NaN</td>\n",
              "      <td>NaN</td>\n",
              "      <td>NaN</td>\n",
              "      <td>NaN</td>\n",
              "      <td>1.0</td>\n",
              "    </tr>\n",
              "  </tbody>\n",
              "</table>\n",
              "</div>"
            ],
            "text/plain": [
              "   No  全国地方公共団体コード 都道府県名  市区町村名  ... 患者_症状 患者_渡航歴の有無フラグ  備考 退院済フラグ\n",
              "0   1       130001   東京都    NaN  ...   NaN          NaN NaN    1.0\n",
              "1   2       130001   東京都    NaN  ...   NaN          NaN NaN    1.0\n",
              "2   3       130001   東京都    NaN  ...   NaN          NaN NaN    1.0\n",
              "3   4       130001   東京都    NaN  ...   NaN          NaN NaN    1.0\n",
              "4   5       130001   東京都    NaN  ...   NaN          NaN NaN    1.0\n",
              "\n",
              "[5 rows x 16 columns]"
            ]
          },
          "metadata": {
            "tags": []
          },
          "execution_count": 3
        }
      ]
    },
    {
      "cell_type": "code",
      "metadata": {
        "id": "ZN9xNKVb2E1M",
        "colab_type": "code",
        "colab": {
          "base_uri": "https://localhost:8080/",
          "height": 391
        },
        "outputId": "9cd0a4a6-2930-4272-97c5-54e54298748c"
      },
      "source": [
        "df_patient_day = df_patient.groupby(['公表_年月日','患者_年代']).count().reset_index()[['公表_年月日','患者_年代','No']]\n",
        "df_patient_day"
      ],
      "execution_count": 4,
      "outputs": [
        {
          "output_type": "execute_result",
          "data": {
            "text/html": [
              "<div>\n",
              "<style scoped>\n",
              "    .dataframe tbody tr th:only-of-type {\n",
              "        vertical-align: middle;\n",
              "    }\n",
              "\n",
              "    .dataframe tbody tr th {\n",
              "        vertical-align: top;\n",
              "    }\n",
              "\n",
              "    .dataframe thead th {\n",
              "        text-align: right;\n",
              "    }\n",
              "</style>\n",
              "<table border=\"1\" class=\"dataframe\">\n",
              "  <thead>\n",
              "    <tr style=\"text-align: right;\">\n",
              "      <th></th>\n",
              "      <th>公表_年月日</th>\n",
              "      <th>患者_年代</th>\n",
              "      <th>No</th>\n",
              "    </tr>\n",
              "  </thead>\n",
              "  <tbody>\n",
              "    <tr>\n",
              "      <th>0</th>\n",
              "      <td>2020-01-24</td>\n",
              "      <td>40代</td>\n",
              "      <td>1</td>\n",
              "    </tr>\n",
              "    <tr>\n",
              "      <th>1</th>\n",
              "      <td>2020-01-25</td>\n",
              "      <td>30代</td>\n",
              "      <td>1</td>\n",
              "    </tr>\n",
              "    <tr>\n",
              "      <th>2</th>\n",
              "      <td>2020-01-30</td>\n",
              "      <td>30代</td>\n",
              "      <td>1</td>\n",
              "    </tr>\n",
              "    <tr>\n",
              "      <th>3</th>\n",
              "      <td>2020-02-13</td>\n",
              "      <td>70代</td>\n",
              "      <td>1</td>\n",
              "    </tr>\n",
              "    <tr>\n",
              "      <th>4</th>\n",
              "      <td>2020-02-14</td>\n",
              "      <td>50代</td>\n",
              "      <td>1</td>\n",
              "    </tr>\n",
              "    <tr>\n",
              "      <th>...</th>\n",
              "      <td>...</td>\n",
              "      <td>...</td>\n",
              "      <td>...</td>\n",
              "    </tr>\n",
              "    <tr>\n",
              "      <th>1087</th>\n",
              "      <td>2020-07-28</td>\n",
              "      <td>50代</td>\n",
              "      <td>36</td>\n",
              "    </tr>\n",
              "    <tr>\n",
              "      <th>1088</th>\n",
              "      <td>2020-07-28</td>\n",
              "      <td>60代</td>\n",
              "      <td>6</td>\n",
              "    </tr>\n",
              "    <tr>\n",
              "      <th>1089</th>\n",
              "      <td>2020-07-28</td>\n",
              "      <td>70代</td>\n",
              "      <td>7</td>\n",
              "    </tr>\n",
              "    <tr>\n",
              "      <th>1090</th>\n",
              "      <td>2020-07-28</td>\n",
              "      <td>80代</td>\n",
              "      <td>6</td>\n",
              "    </tr>\n",
              "    <tr>\n",
              "      <th>1091</th>\n",
              "      <td>2020-07-28</td>\n",
              "      <td>90代</td>\n",
              "      <td>1</td>\n",
              "    </tr>\n",
              "  </tbody>\n",
              "</table>\n",
              "<p>1092 rows × 3 columns</p>\n",
              "</div>"
            ],
            "text/plain": [
              "         公表_年月日 患者_年代  No\n",
              "0    2020-01-24   40代   1\n",
              "1    2020-01-25   30代   1\n",
              "2    2020-01-30   30代   1\n",
              "3    2020-02-13   70代   1\n",
              "4    2020-02-14   50代   1\n",
              "...         ...   ...  ..\n",
              "1087 2020-07-28   50代  36\n",
              "1088 2020-07-28   60代   6\n",
              "1089 2020-07-28   70代   7\n",
              "1090 2020-07-28   80代   6\n",
              "1091 2020-07-28   90代   1\n",
              "\n",
              "[1092 rows x 3 columns]"
            ]
          },
          "metadata": {
            "tags": []
          },
          "execution_count": 4
        }
      ]
    },
    {
      "cell_type": "code",
      "metadata": {
        "id": "k5-akjh02HPR",
        "colab_type": "code",
        "colab": {
          "base_uri": "https://localhost:8080/",
          "height": 391
        },
        "outputId": "3bdebed1-fd1d-48e9-d28c-36bb05622ee1"
      },
      "source": [
        "genes_dict = {'10歳未満':'under 10',\\\n",
        "         '10代': '10', \\\n",
        "         '20代': '20', \\\n",
        "         '30代': '30', \\\n",
        "         '40代': '40', \\\n",
        "         '50代': '50', \\\n",
        "         '60代': '60', \\\n",
        "         '70代': '70', \\\n",
        "         '80代': '80', \\\n",
        "         '90代': '90', \\\n",
        "         '100歳以上': 'over 100', \\\n",
        "         \"'-\": '-',\n",
        "         '不明': 'unknown'\n",
        "        }\n",
        "\n",
        "df_patient_day['患者_年代'] = [genes_dict[x] for x in df_patient_day['患者_年代'].values.tolist()]\n",
        "df_patient_day"
      ],
      "execution_count": 5,
      "outputs": [
        {
          "output_type": "execute_result",
          "data": {
            "text/html": [
              "<div>\n",
              "<style scoped>\n",
              "    .dataframe tbody tr th:only-of-type {\n",
              "        vertical-align: middle;\n",
              "    }\n",
              "\n",
              "    .dataframe tbody tr th {\n",
              "        vertical-align: top;\n",
              "    }\n",
              "\n",
              "    .dataframe thead th {\n",
              "        text-align: right;\n",
              "    }\n",
              "</style>\n",
              "<table border=\"1\" class=\"dataframe\">\n",
              "  <thead>\n",
              "    <tr style=\"text-align: right;\">\n",
              "      <th></th>\n",
              "      <th>公表_年月日</th>\n",
              "      <th>患者_年代</th>\n",
              "      <th>No</th>\n",
              "    </tr>\n",
              "  </thead>\n",
              "  <tbody>\n",
              "    <tr>\n",
              "      <th>0</th>\n",
              "      <td>2020-01-24</td>\n",
              "      <td>40</td>\n",
              "      <td>1</td>\n",
              "    </tr>\n",
              "    <tr>\n",
              "      <th>1</th>\n",
              "      <td>2020-01-25</td>\n",
              "      <td>30</td>\n",
              "      <td>1</td>\n",
              "    </tr>\n",
              "    <tr>\n",
              "      <th>2</th>\n",
              "      <td>2020-01-30</td>\n",
              "      <td>30</td>\n",
              "      <td>1</td>\n",
              "    </tr>\n",
              "    <tr>\n",
              "      <th>3</th>\n",
              "      <td>2020-02-13</td>\n",
              "      <td>70</td>\n",
              "      <td>1</td>\n",
              "    </tr>\n",
              "    <tr>\n",
              "      <th>4</th>\n",
              "      <td>2020-02-14</td>\n",
              "      <td>50</td>\n",
              "      <td>1</td>\n",
              "    </tr>\n",
              "    <tr>\n",
              "      <th>...</th>\n",
              "      <td>...</td>\n",
              "      <td>...</td>\n",
              "      <td>...</td>\n",
              "    </tr>\n",
              "    <tr>\n",
              "      <th>1087</th>\n",
              "      <td>2020-07-28</td>\n",
              "      <td>50</td>\n",
              "      <td>36</td>\n",
              "    </tr>\n",
              "    <tr>\n",
              "      <th>1088</th>\n",
              "      <td>2020-07-28</td>\n",
              "      <td>60</td>\n",
              "      <td>6</td>\n",
              "    </tr>\n",
              "    <tr>\n",
              "      <th>1089</th>\n",
              "      <td>2020-07-28</td>\n",
              "      <td>70</td>\n",
              "      <td>7</td>\n",
              "    </tr>\n",
              "    <tr>\n",
              "      <th>1090</th>\n",
              "      <td>2020-07-28</td>\n",
              "      <td>80</td>\n",
              "      <td>6</td>\n",
              "    </tr>\n",
              "    <tr>\n",
              "      <th>1091</th>\n",
              "      <td>2020-07-28</td>\n",
              "      <td>90</td>\n",
              "      <td>1</td>\n",
              "    </tr>\n",
              "  </tbody>\n",
              "</table>\n",
              "<p>1092 rows × 3 columns</p>\n",
              "</div>"
            ],
            "text/plain": [
              "         公表_年月日 患者_年代  No\n",
              "0    2020-01-24    40   1\n",
              "1    2020-01-25    30   1\n",
              "2    2020-01-30    30   1\n",
              "3    2020-02-13    70   1\n",
              "4    2020-02-14    50   1\n",
              "...         ...   ...  ..\n",
              "1087 2020-07-28    50  36\n",
              "1088 2020-07-28    60   6\n",
              "1089 2020-07-28    70   7\n",
              "1090 2020-07-28    80   6\n",
              "1091 2020-07-28    90   1\n",
              "\n",
              "[1092 rows x 3 columns]"
            ]
          },
          "metadata": {
            "tags": []
          },
          "execution_count": 5
        }
      ]
    },
    {
      "cell_type": "code",
      "metadata": {
        "id": "FhEfdsP62IA7",
        "colab_type": "code",
        "colab": {
          "base_uri": "https://localhost:8080/",
          "height": 391
        },
        "outputId": "0f33588a-377b-46ae-b791-178626396e9c"
      },
      "source": [
        "genes = ['under 10',\\\n",
        "         '10', \\\n",
        "         '20', \\\n",
        "         '30', \\\n",
        "         '40', \\\n",
        "         '50', \\\n",
        "         '60', \\\n",
        "         '70', \\\n",
        "         '80', \\\n",
        "         '90', \\\n",
        "         'over 100', \\\n",
        "         '-',\n",
        "         'unknown'\n",
        "        ]\n",
        "days = pd.date_range(start=df_patient['公表_年月日'].min(), end=df_patient['公表_年月日'].max(), freq='D')\n",
        "data = [[x, y] for x in days for y in genes]\n",
        "\n",
        "df_data = pd.DataFrame(data, columns=['公表_年月日', '患者_年代'])\n",
        "df_data = pd.merge(df_data, df_patient_day, on=['公表_年月日', '患者_年代'], how='left').fillna(0)\n",
        "df_data = df_data.rename(columns={'No':'人数'})\n",
        "df_data"
      ],
      "execution_count": 6,
      "outputs": [
        {
          "output_type": "execute_result",
          "data": {
            "text/html": [
              "<div>\n",
              "<style scoped>\n",
              "    .dataframe tbody tr th:only-of-type {\n",
              "        vertical-align: middle;\n",
              "    }\n",
              "\n",
              "    .dataframe tbody tr th {\n",
              "        vertical-align: top;\n",
              "    }\n",
              "\n",
              "    .dataframe thead th {\n",
              "        text-align: right;\n",
              "    }\n",
              "</style>\n",
              "<table border=\"1\" class=\"dataframe\">\n",
              "  <thead>\n",
              "    <tr style=\"text-align: right;\">\n",
              "      <th></th>\n",
              "      <th>公表_年月日</th>\n",
              "      <th>患者_年代</th>\n",
              "      <th>人数</th>\n",
              "    </tr>\n",
              "  </thead>\n",
              "  <tbody>\n",
              "    <tr>\n",
              "      <th>0</th>\n",
              "      <td>2020-01-24</td>\n",
              "      <td>under 10</td>\n",
              "      <td>0.0</td>\n",
              "    </tr>\n",
              "    <tr>\n",
              "      <th>1</th>\n",
              "      <td>2020-01-24</td>\n",
              "      <td>10</td>\n",
              "      <td>0.0</td>\n",
              "    </tr>\n",
              "    <tr>\n",
              "      <th>2</th>\n",
              "      <td>2020-01-24</td>\n",
              "      <td>20</td>\n",
              "      <td>0.0</td>\n",
              "    </tr>\n",
              "    <tr>\n",
              "      <th>3</th>\n",
              "      <td>2020-01-24</td>\n",
              "      <td>30</td>\n",
              "      <td>0.0</td>\n",
              "    </tr>\n",
              "    <tr>\n",
              "      <th>4</th>\n",
              "      <td>2020-01-24</td>\n",
              "      <td>40</td>\n",
              "      <td>1.0</td>\n",
              "    </tr>\n",
              "    <tr>\n",
              "      <th>...</th>\n",
              "      <td>...</td>\n",
              "      <td>...</td>\n",
              "      <td>...</td>\n",
              "    </tr>\n",
              "    <tr>\n",
              "      <th>2426</th>\n",
              "      <td>2020-07-28</td>\n",
              "      <td>80</td>\n",
              "      <td>6.0</td>\n",
              "    </tr>\n",
              "    <tr>\n",
              "      <th>2427</th>\n",
              "      <td>2020-07-28</td>\n",
              "      <td>90</td>\n",
              "      <td>1.0</td>\n",
              "    </tr>\n",
              "    <tr>\n",
              "      <th>2428</th>\n",
              "      <td>2020-07-28</td>\n",
              "      <td>over 100</td>\n",
              "      <td>0.0</td>\n",
              "    </tr>\n",
              "    <tr>\n",
              "      <th>2429</th>\n",
              "      <td>2020-07-28</td>\n",
              "      <td>-</td>\n",
              "      <td>0.0</td>\n",
              "    </tr>\n",
              "    <tr>\n",
              "      <th>2430</th>\n",
              "      <td>2020-07-28</td>\n",
              "      <td>unknown</td>\n",
              "      <td>0.0</td>\n",
              "    </tr>\n",
              "  </tbody>\n",
              "</table>\n",
              "<p>2431 rows × 3 columns</p>\n",
              "</div>"
            ],
            "text/plain": [
              "         公表_年月日     患者_年代   人数\n",
              "0    2020-01-24  under 10  0.0\n",
              "1    2020-01-24        10  0.0\n",
              "2    2020-01-24        20  0.0\n",
              "3    2020-01-24        30  0.0\n",
              "4    2020-01-24        40  1.0\n",
              "...         ...       ...  ...\n",
              "2426 2020-07-28        80  6.0\n",
              "2427 2020-07-28        90  1.0\n",
              "2428 2020-07-28  over 100  0.0\n",
              "2429 2020-07-28         -  0.0\n",
              "2430 2020-07-28   unknown  0.0\n",
              "\n",
              "[2431 rows x 3 columns]"
            ]
          },
          "metadata": {
            "tags": []
          },
          "execution_count": 6
        }
      ]
    },
    {
      "cell_type": "code",
      "metadata": {
        "id": "T6SGOnK92LPS",
        "colab_type": "code",
        "colab": {}
      },
      "source": [
        "result_diff = {}\n",
        "_ylim = 0                                                                       ## 追加：_ylim （チャートの高さ）を0で初期化\n",
        "for x in genes:\n",
        "    df = df_data[df_data['患者_年代'] == x]\n",
        "    num = df['人数'].values.tolist()                                               ## 追加：’人数’列の値を、List型で取得\n",
        "    num_log = [math.log1p(_num) for _num in num]                            ## 追加：人数を 対数化 \n",
        "    _ylim = max(num_log) if max(num_log) > _ylim else _ylim                  ## 追加：対数化した値が、これまでの年代の最大値より大きい場合 _ylimを更新\n",
        "    #df = pd.Series(df['人数'].values.tolist(), index=df['公表_年月日'].values)      ## 変更：\n",
        "    df = pd.Series(num_log, index=df['公表_年月日'].values)                      ## 変更：対数化したListを、pd.Seriesに変換\n",
        "    result_diff[x] = df.rolling(7).mean().dropna()"
      ],
      "execution_count": 7,
      "outputs": []
    },
    {
      "cell_type": "code",
      "metadata": {
        "id": "22p5v8ru2OR7",
        "colab_type": "code",
        "colab": {}
      },
      "source": [
        "fig, axe = plt.subplots()\n",
        "for x in genes:\n",
        "    df_diff = result_diff[x]\n",
        "    axe.plot(df_diff.index, df_diff.values, label=x)\n",
        "\n",
        "axe.legend()\n",
        "#axe.set_ylim([0,65])                                                           ## 変更：\n",
        "axe.set_ylim([0,math.ceil(_ylim)])                                               ## 変更： _ylim（対数化した最大値）を切り上げして、チャートの高さに指定"
      ],
      "execution_count": null,
      "outputs": []
    },
    {
      "cell_type": "code",
      "metadata": {
        "id": "O1ZPcYCtez7f",
        "colab_type": "code",
        "colab": {}
      },
      "source": [
        ""
      ],
      "execution_count": null,
      "outputs": []
    },
    {
      "cell_type": "markdown",
      "metadata": {
        "id": "w01yTACBerZV",
        "colab_type": "text"
      },
      "source": [
        "---\n",
        "## apply を使った場合"
      ]
    },
    {
      "cell_type": "code",
      "metadata": {
        "id": "afr8e3aaFHRe",
        "colab_type": "code",
        "colab": {}
      },
      "source": [
        "result_diff = {}\n",
        "_ylim = 0                                                                       ## 追加：_ylim （チャートの高さ）を0で初期化\n",
        "for x in genes:\n",
        "    df = df_data[df_data['患者_年代'] == x]\n",
        "    df = df['人数'].apply(math.log1p)                                            ## 追加： apply を使って、人数を 対数化\n",
        "    _ylim = max(df) if max(df) > _ylim else _ylim\n",
        "    result_diff[x] = df.rolling(7).mean().dropna()"
      ],
      "execution_count": 7,
      "outputs": []
    },
    {
      "cell_type": "code",
      "metadata": {
        "id": "SuGqY1Tpem4m",
        "colab_type": "code",
        "colab": {
          "base_uri": "https://localhost:8080/",
          "height": 286
        },
        "outputId": "8bd0335f-7595-4c67-c8c5-064a0c6b98f7"
      },
      "source": [
        "fig, axe = plt.subplots()\n",
        "for x in genes:\n",
        "    df_diff = result_diff[x]\n",
        "    axe.plot(df_diff.index, df_diff.values, label=x)\n",
        "\n",
        "axe.legend()\n",
        "#axe.set_ylim([0,65])                                                           ## 変更：\n",
        "axe.set_ylim([0,math.ceil(_ylim)])                                               ## 変更： _ylim（対数化した最大値）を切り上げして、チャートの高さに指定"
      ],
      "execution_count": 8,
      "outputs": [
        {
          "output_type": "execute_result",
          "data": {
            "text/plain": [
              "(0.0, 5.0)"
            ]
          },
          "metadata": {
            "tags": []
          },
          "execution_count": 8
        },
        {
          "output_type": "display_data",
          "data": {
            "image/png": "[encoded data removed]",
            "text/plain": [
              "<Figure size 432x288 with 1 Axes>"
            ]
          },
          "metadata": {
            "tags": [],
            "needs_background": "light"
          }
        }
      ]
    },
    {
      "cell_type": "markdown",
      "metadata": {
        "id": "z5nO6Mnz_rDx",
        "colab_type": "text"
      },
      "source": [
        "\n",
        "\n",
        "\n",
        "---\n",
        "\n",
        "\n",
        "\n",
        "##単純に、チャートを対数表示にする場合は、こちらでも表示できる！\n"
      ]
    },
    {
      "cell_type": "code",
      "metadata": {
        "id": "GzJH2Su42i_w",
        "colab_type": "code",
        "colab": {}
      },
      "source": [
        "result_diff = {}\n",
        "for x in genes:\n",
        "    df = df_data[df_data['患者_年代'] == x]\n",
        "    df = pd.Series(df['人数'].values.tolist(), index=df['公表_年月日'].values)\n",
        "    result_diff[x] = df.rolling(7).mean().dropna()"
      ],
      "execution_count": null,
      "outputs": []
    },
    {
      "cell_type": "code",
      "metadata": {
        "id": "wvmEZoKc_m8x",
        "colab_type": "code",
        "colab": {}
      },
      "source": [
        "fig, axe = plt.subplots()\n",
        "for x in genes:\n",
        "    df_diff = result_diff[x]\n",
        "    axe.plot(df_diff.index, df_diff.values, label=x)\n",
        "\n",
        "axe.legend()\n",
        "plt.yscale('log')                                                                  ## 追加： yのスケールを ’対数’ に指定する\n",
        "\n",
        "#axe.set_ylim([0,65])                                                           ## 変更： チャートの大きさを任せる（指定しない）\n"
      ],
      "execution_count": null,
      "outputs": []
    },
    {
      "cell_type": "code",
      "metadata": {
        "id": "1dz2cAFn_zK-",
        "colab_type": "code",
        "colab": {}
      },
      "source": [
        ""
      ],
      "execution_count": null,
      "outputs": []
    }
  ]
}