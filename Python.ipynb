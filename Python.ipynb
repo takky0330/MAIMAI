{
  "nbformat": 4,
  "nbformat_minor": 0,
  "metadata": {
    "colab": {
      "name": "Python.ipynb",
      "provenance": [],
      "authorship_tag": "ABX9TyP/NL6PYiDRkDAlXrt7455P",
      "include_colab_link": true
    },
    "kernelspec": {
      "name": "python3",
      "display_name": "Python 3"
    }
  },
  "cells": [
    {
      "cell_type": "markdown",
      "metadata": {
        "id": "view-in-github",
        "colab_type": "text"
      },
      "source": [
        "<a href=\"https://colab.research.google.com/github/takky0330/MAIMAI/blob/master/Python.ipynb\" target=\"_parent\"><img src=\"https://colab.research.google.com/assets/colab-badge.svg\" alt=\"Open In Colab\"/></a>"
      ]
    },
    {
      "cell_type": "code",
      "metadata": {
        "colab": {
          "base_uri": "https://localhost:8080/"
        },
        "id": "UH8HgS-ztwdI",
        "outputId": "fe09dee5-1cc5-4917-e6fb-748f29bf874e"
      },
      "source": [
        "print(\"Hello, Python\") "
      ],
      "execution_count": 1,
      "outputs": [
        {
          "output_type": "stream",
          "text": [
            "Hello, Python\n"
          ],
          "name": "stdout"
        }
      ]
    },
    {
      "cell_type": "code",
      "metadata": {
        "colab": {
          "base_uri": "https://localhost:8080/"
        },
        "id": "0vYgsB9KtyLt",
        "outputId": "9e46e98a-4653-40b2-f98a-1a468b939628"
      },
      "source": [
        "# 数値の出力\n",
        "print(15)\n",
        "\n",
        "## 式の結果を出力もできます（文字列の連結も ＋ でできます）\n",
        "# 文字列を連結して出力\n",
        "print(\"Hello\" + \"Python\")\n"
      ],
      "execution_count": 12,
      "outputs": [
        {
          "output_type": "stream",
          "text": [
            "15\n",
            "HelloPython\n"
          ],
          "name": "stdout"
        }
      ]
    },
    {
      "cell_type": "code",
      "metadata": {
        "colab": {
          "base_uri": "https://localhost:8080/",
          "height": 181
        },
        "id": "ZbvxCtbXEp4X",
        "outputId": "2dd6b7f9-7c70-465f-da40-f6b1899e0ac4"
      },
      "source": [
        "# でも、文字列と数値を連結するのは、エラーになります\n",
        "print(\"Hello\" + 15)"
      ],
      "execution_count": 9,
      "outputs": [
        {
          "output_type": "error",
          "ename": "TypeError",
          "evalue": "ignored",
          "traceback": [
            "\u001b[0;31m---------------------------------------------------------------------------\u001b[0m",
            "\u001b[0;31mTypeError\u001b[0m                                 Traceback (most recent call last)",
            "\u001b[0;32m<ipython-input-9-ef51f9ee5699>\u001b[0m in \u001b[0;36m<module>\u001b[0;34m()\u001b[0m\n\u001b[1;32m      1\u001b[0m \u001b[0;31m# でも、文字列と数値を連結するのは\u001b[0m\u001b[0;34m\u001b[0m\u001b[0;34m\u001b[0m\u001b[0;34m\u001b[0m\u001b[0m\n\u001b[0;32m----> 2\u001b[0;31m \u001b[0mprint\u001b[0m\u001b[0;34m(\u001b[0m\u001b[0;34m\"Hello\"\u001b[0m \u001b[0;34m+\u001b[0m \u001b[0;36m15\u001b[0m\u001b[0;34m)\u001b[0m\u001b[0;34m\u001b[0m\u001b[0;34m\u001b[0m\u001b[0m\n\u001b[0m",
            "\u001b[0;31mTypeError\u001b[0m: must be str, not int"
          ]
        }
      ]
    },
    {
      "cell_type": "code",
      "metadata": {
        "colab": {
          "base_uri": "https://localhost:8080/"
        },
        "id": "mN9RGES9FVhU",
        "outputId": "0176059c-8c71-40a0-a7d4-136cba4b47af"
      },
      "source": [
        "# このような場合は、数値を文字列に変換する関数（str）を利用し出力します\n",
        "print(\"Hello\" + str(15))"
      ],
      "execution_count": 10,
      "outputs": [
        {
          "output_type": "stream",
          "text": [
            "Hello15\n"
          ],
          "name": "stdout"
        }
      ]
    },
    {
      "cell_type": "code",
      "metadata": {
        "colab": {
          "base_uri": "https://localhost:8080/"
        },
        "id": "H2uWwgMmFknT",
        "outputId": "eefcfbb3-f999-4bcf-c77e-18451db1c626"
      },
      "source": [
        "### また、複数の値を , でつなげると、並列に出力することもできます\n",
        "# 連結はしていないので、数値を文字列に変換しなくてもOKです\n",
        "print(\"Hello\", \"Python\", 15)"
      ],
      "execution_count": 13,
      "outputs": [
        {
          "output_type": "stream",
          "text": [
            "Hello Python 15\n"
          ],
          "name": "stdout"
        }
      ]
    },
    {
      "cell_type": "code",
      "metadata": {
        "id": "7eXmQplXGUeZ"
      },
      "source": [
        ""
      ],
      "execution_count": null,
      "outputs": []
    }
  ]
}