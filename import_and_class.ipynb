{
  "nbformat": 4,
  "nbformat_minor": 0,
  "metadata": {
    "colab": {
      "name": "import_and_class.ipynb",
      "provenance": [],
      "authorship_tag": "ABX9TyNCJmYKCGdAf+fQZpW6oApy",
      "include_colab_link": true
    },
    "kernelspec": {
      "name": "python3",
      "display_name": "Python 3"
    }
  },
  "cells": [
    {
      "cell_type": "markdown",
      "metadata": {
        "id": "view-in-github",
        "colab_type": "text"
      },
      "source": [
        "<a href=\"https://colab.research.google.com/github/takky0330/MAIMAI/blob/master/import_and_class.ipynb\" target=\"_parent\"><img src=\"https://colab.research.google.com/assets/colab-badge.svg\" alt=\"Open In Colab\"/></a>"
      ]
    },
    {
      "cell_type": "code",
      "metadata": {
        "id": "RuwNV2K_1eO5"
      },
      "source": [
        "def get_fortune1():\n",
        "  # from random import choice  ### get_fortune1()ではインポートしない\n",
        "  results = ['大吉', '吉', '小吉', '凶', '大凶', '末吉']\n",
        "  return choice(results)"
      ],
      "execution_count": 1,
      "outputs": []
    },
    {
      "cell_type": "code",
      "metadata": {
        "id": "zSxoyBS61qB8"
      },
      "source": [
        "def get_fortune2():\n",
        "  from random import choice    ### get_fortune2()でインポートする\n",
        "  results = ['大吉', '吉', '小吉', '凶', '大凶', '末吉']\n",
        "  return choice(results)"
      ],
      "execution_count": 2,
      "outputs": []
    },
    {
      "cell_type": "code",
      "metadata": {
        "colab": {
          "base_uri": "https://localhost:8080/",
          "height": 247
        },
        "id": "R7uHt5SS1xLW",
        "outputId": "8e9b39a7-c3b8-4c17-fc0d-6f4bd3dce24e"
      },
      "source": [
        "get_fortune1()"
      ],
      "execution_count": 3,
      "outputs": [
        {
          "output_type": "error",
          "ename": "NameError",
          "evalue": "ignored",
          "traceback": [
            "\u001b[0;31m---------------------------------------------------------------------------\u001b[0m",
            "\u001b[0;31mNameError\u001b[0m                                 Traceback (most recent call last)",
            "\u001b[0;32m<ipython-input-3-2517ce07fe26>\u001b[0m in \u001b[0;36m<module>\u001b[0;34m()\u001b[0m\n\u001b[0;32m----> 1\u001b[0;31m \u001b[0mget_fortune1\u001b[0m\u001b[0;34m(\u001b[0m\u001b[0;34m)\u001b[0m\u001b[0;34m\u001b[0m\u001b[0;34m\u001b[0m\u001b[0m\n\u001b[0m",
            "\u001b[0;32m<ipython-input-1-66013060af43>\u001b[0m in \u001b[0;36mget_fortune1\u001b[0;34m()\u001b[0m\n\u001b[1;32m      2\u001b[0m   \u001b[0;31m# from random import choice  ### get_fortune1()ではインポートしない\u001b[0m\u001b[0;34m\u001b[0m\u001b[0;34m\u001b[0m\u001b[0;34m\u001b[0m\u001b[0m\n\u001b[1;32m      3\u001b[0m   \u001b[0mresults\u001b[0m \u001b[0;34m=\u001b[0m \u001b[0;34m[\u001b[0m\u001b[0;34m'大吉'\u001b[0m\u001b[0;34m,\u001b[0m \u001b[0;34m'吉'\u001b[0m\u001b[0;34m,\u001b[0m \u001b[0;34m'小吉'\u001b[0m\u001b[0;34m,\u001b[0m \u001b[0;34m'凶'\u001b[0m\u001b[0;34m,\u001b[0m \u001b[0;34m'大凶'\u001b[0m\u001b[0;34m,\u001b[0m \u001b[0;34m'末吉'\u001b[0m\u001b[0;34m]\u001b[0m\u001b[0;34m\u001b[0m\u001b[0;34m\u001b[0m\u001b[0m\n\u001b[0;32m----> 4\u001b[0;31m   \u001b[0;32mreturn\u001b[0m \u001b[0mchoice\u001b[0m\u001b[0;34m(\u001b[0m\u001b[0mresults\u001b[0m\u001b[0;34m)\u001b[0m\u001b[0;34m\u001b[0m\u001b[0;34m\u001b[0m\u001b[0m\n\u001b[0m",
            "\u001b[0;31mNameError\u001b[0m: name 'choice' is not defined"
          ]
        }
      ]
    },
    {
      "cell_type": "code",
      "metadata": {
        "colab": {
          "base_uri": "https://localhost:8080/",
          "height": 34
        },
        "id": "gouQpiak1xsB",
        "outputId": "b526068e-1b29-46c7-ea70-3cf66dacee0c"
      },
      "source": [
        "get_fortune2()"
      ],
      "execution_count": 4,
      "outputs": [
        {
          "output_type": "execute_result",
          "data": {
            "application/vnd.google.colaboratory.intrinsic+json": {
              "type": "string"
            },
            "text/plain": [
              "'大吉'"
            ]
          },
          "metadata": {
            "tags": []
          },
          "execution_count": 4
        }
      ]
    },
    {
      "cell_type": "code",
      "metadata": {
        "colab": {
          "base_uri": "https://localhost:8080/",
          "height": 247
        },
        "id": "VGU-5GnA1x73",
        "outputId": "2ceb5d1b-f438-4429-fa92-7842c17b3ee2"
      },
      "source": [
        "get_fortune1()"
      ],
      "execution_count": 5,
      "outputs": [
        {
          "output_type": "error",
          "ename": "NameError",
          "evalue": "ignored",
          "traceback": [
            "\u001b[0;31m---------------------------------------------------------------------------\u001b[0m",
            "\u001b[0;31mNameError\u001b[0m                                 Traceback (most recent call last)",
            "\u001b[0;32m<ipython-input-5-2517ce07fe26>\u001b[0m in \u001b[0;36m<module>\u001b[0;34m()\u001b[0m\n\u001b[0;32m----> 1\u001b[0;31m \u001b[0mget_fortune1\u001b[0m\u001b[0;34m(\u001b[0m\u001b[0;34m)\u001b[0m\u001b[0;34m\u001b[0m\u001b[0;34m\u001b[0m\u001b[0m\n\u001b[0m",
            "\u001b[0;32m<ipython-input-1-66013060af43>\u001b[0m in \u001b[0;36mget_fortune1\u001b[0;34m()\u001b[0m\n\u001b[1;32m      2\u001b[0m   \u001b[0;31m# from random import choice  ### get_fortune1()ではインポートしない\u001b[0m\u001b[0;34m\u001b[0m\u001b[0;34m\u001b[0m\u001b[0;34m\u001b[0m\u001b[0m\n\u001b[1;32m      3\u001b[0m   \u001b[0mresults\u001b[0m \u001b[0;34m=\u001b[0m \u001b[0;34m[\u001b[0m\u001b[0;34m'大吉'\u001b[0m\u001b[0;34m,\u001b[0m \u001b[0;34m'吉'\u001b[0m\u001b[0;34m,\u001b[0m \u001b[0;34m'小吉'\u001b[0m\u001b[0;34m,\u001b[0m \u001b[0;34m'凶'\u001b[0m\u001b[0;34m,\u001b[0m \u001b[0;34m'大凶'\u001b[0m\u001b[0;34m,\u001b[0m \u001b[0;34m'末吉'\u001b[0m\u001b[0;34m]\u001b[0m\u001b[0;34m\u001b[0m\u001b[0;34m\u001b[0m\u001b[0m\n\u001b[0;32m----> 4\u001b[0;31m   \u001b[0;32mreturn\u001b[0m \u001b[0mchoice\u001b[0m\u001b[0;34m(\u001b[0m\u001b[0mresults\u001b[0m\u001b[0;34m)\u001b[0m\u001b[0;34m\u001b[0m\u001b[0;34m\u001b[0m\u001b[0m\n\u001b[0m",
            "\u001b[0;31mNameError\u001b[0m: name 'choice' is not defined"
          ]
        }
      ]
    },
    {
      "cell_type": "code",
      "metadata": {
        "id": "jLNrwubt134x"
      },
      "source": [
        ""
      ],
      "execution_count": null,
      "outputs": []
    },
    {
      "cell_type": "code",
      "metadata": {
        "id": "U1oKOt2d2FDO"
      },
      "source": [
        "from random import choice"
      ],
      "execution_count": 6,
      "outputs": []
    },
    {
      "cell_type": "code",
      "metadata": {
        "id": "5VBE7KYs2H-o"
      },
      "source": [
        "def get_fortune1():\n",
        "  # from random import choice  ### get_fortune1()ではインポートしない\n",
        "  results = ['大吉', '吉', '小吉', '凶', '大凶', '末吉']\n",
        "  return choice(results)"
      ],
      "execution_count": 7,
      "outputs": []
    },
    {
      "cell_type": "code",
      "metadata": {
        "id": "M0TQtyHH2LWQ"
      },
      "source": [
        "def get_fortune2():\n",
        "  # from random import choice  ### get_fortune1()ではインポートしない\n",
        "  results = ['大吉', '吉', '小吉', '凶', '大凶', '末吉']\n",
        "  return choice(results)"
      ],
      "execution_count": 8,
      "outputs": []
    },
    {
      "cell_type": "code",
      "metadata": {
        "colab": {
          "base_uri": "https://localhost:8080/",
          "height": 34
        },
        "id": "raXm_6y02PK7",
        "outputId": "b3705571-9964-43d4-b5e0-e7c48fff6725"
      },
      "source": [
        "get_fortune1()"
      ],
      "execution_count": 9,
      "outputs": [
        {
          "output_type": "execute_result",
          "data": {
            "application/vnd.google.colaboratory.intrinsic+json": {
              "type": "string"
            },
            "text/plain": [
              "'小吉'"
            ]
          },
          "metadata": {
            "tags": []
          },
          "execution_count": 9
        }
      ]
    },
    {
      "cell_type": "code",
      "metadata": {
        "colab": {
          "base_uri": "https://localhost:8080/",
          "height": 34
        },
        "id": "kgSM0WB52PrD",
        "outputId": "1cfe1c8c-7227-4017-b874-409c7228d00a"
      },
      "source": [
        "get_fortune2()"
      ],
      "execution_count": 10,
      "outputs": [
        {
          "output_type": "execute_result",
          "data": {
            "application/vnd.google.colaboratory.intrinsic+json": {
              "type": "string"
            },
            "text/plain": [
              "'凶'"
            ]
          },
          "metadata": {
            "tags": []
          },
          "execution_count": 10
        }
      ]
    },
    {
      "cell_type": "code",
      "metadata": {
        "colab": {
          "base_uri": "https://localhost:8080/",
          "height": 34
        },
        "id": "q6EGyHYa2P_Z",
        "outputId": "86dac21c-2442-48ec-f1f5-9d1dd7713c07"
      },
      "source": [
        "get_fortune1()"
      ],
      "execution_count": 11,
      "outputs": [
        {
          "output_type": "execute_result",
          "data": {
            "application/vnd.google.colaboratory.intrinsic+json": {
              "type": "string"
            },
            "text/plain": [
              "'凶'"
            ]
          },
          "metadata": {
            "tags": []
          },
          "execution_count": 11
        }
      ]
    },
    {
      "cell_type": "code",
      "metadata": {
        "id": "p3blwBUq2TiJ"
      },
      "source": [
        ""
      ],
      "execution_count": null,
      "outputs": []
    },
    {
      "cell_type": "code",
      "metadata": {
        "id": "TDWQ80h_8yl2"
      },
      "source": [
        "class ClassTest(object):\n",
        "  def __init__(self):\n",
        "    self.test1 = 'TEST1'\n",
        "    self.test2 = 'TEST2'\n",
        "  \n",
        "  def printTest1(self):\n",
        "    print(self.test1)\n",
        "\n",
        "  def printTest2(self):\n",
        "    print(self.test2)"
      ],
      "execution_count": 12,
      "outputs": []
    },
    {
      "cell_type": "code",
      "metadata": {
        "id": "MsIweEZD9dJK"
      },
      "source": [
        "CT = ClassTest()"
      ],
      "execution_count": 13,
      "outputs": []
    },
    {
      "cell_type": "code",
      "metadata": {
        "colab": {
          "base_uri": "https://localhost:8080/"
        },
        "id": "61ieAVA69i7M",
        "outputId": "e42bb026-441c-4a01-fd16-a070fe596c4e"
      },
      "source": [
        "CT.printTest1()"
      ],
      "execution_count": 14,
      "outputs": [
        {
          "output_type": "stream",
          "text": [
            "TEST1\n"
          ],
          "name": "stdout"
        }
      ]
    },
    {
      "cell_type": "code",
      "metadata": {
        "colab": {
          "base_uri": "https://localhost:8080/"
        },
        "id": "3JBRJtpI9oN3",
        "outputId": "b954c172-6878-4853-97c1-e1350f695fea"
      },
      "source": [
        "CT.printTest2()"
      ],
      "execution_count": 15,
      "outputs": [
        {
          "output_type": "stream",
          "text": [
            "TEST2\n"
          ],
          "name": "stdout"
        }
      ]
    },
    {
      "cell_type": "code",
      "metadata": {
        "colab": {
          "base_uri": "https://localhost:8080/",
          "height": 34
        },
        "id": "DFkBMYjh_JU2",
        "outputId": "741246d4-3a74-4b39-dbb7-830fbe2e5fb8"
      },
      "source": [
        "CT.test1"
      ],
      "execution_count": 16,
      "outputs": [
        {
          "output_type": "execute_result",
          "data": {
            "application/vnd.google.colaboratory.intrinsic+json": {
              "type": "string"
            },
            "text/plain": [
              "'TEST1'"
            ]
          },
          "metadata": {
            "tags": []
          },
          "execution_count": 16
        }
      ]
    },
    {
      "cell_type": "code",
      "metadata": {
        "id": "6oPLg8Me_mJY"
      },
      "source": [
        "CT.test1 = 'TEST1TEST1'"
      ],
      "execution_count": 17,
      "outputs": []
    },
    {
      "cell_type": "code",
      "metadata": {
        "colab": {
          "base_uri": "https://localhost:8080/"
        },
        "id": "relM_Qtw_rgr",
        "outputId": "38a6ad76-d09e-4748-8310-844b08dfcbb5"
      },
      "source": [
        "CT.printTest1()"
      ],
      "execution_count": 18,
      "outputs": [
        {
          "output_type": "stream",
          "text": [
            "TEST1TEST1\n"
          ],
          "name": "stdout"
        }
      ]
    },
    {
      "cell_type": "code",
      "metadata": {
        "id": "LMNiSjC8_tIm"
      },
      "source": [
        ""
      ],
      "execution_count": null,
      "outputs": []
    }
  ]
}